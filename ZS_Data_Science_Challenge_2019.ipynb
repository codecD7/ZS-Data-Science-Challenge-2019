{
  "nbformat": 4,
  "nbformat_minor": 0,
  "metadata": {
    "kernelspec": {
      "name": "python3",
      "display_name": "Python 3"
    },
    "language_info": {
      "codemirror_mode": {
        "name": "ipython",
        "version": 3
      },
      "file_extension": ".py",
      "mimetype": "text/x-python",
      "name": "python",
      "nbconvert_exporter": "python",
      "pygments_lexer": "ipython3",
      "version": "3.7.3"
    },
    "colab": {
      "name": "ZS Data Science Challenge 2019.ipynb",
      "version": "0.3.2",
      "provenance": [],
      "include_colab_link": true
    },
    "accelerator": "TPU"
  },
  "cells": [
    {
      "cell_type": "markdown",
      "metadata": {
        "id": "view-in-github",
        "colab_type": "text"
      },
      "source": [
        "<a href=\"https://colab.research.google.com/github/codecx07/ZS-Data-Science-Challenge-2019/blob/master/ZS_Data_Science_Challenge_2019.ipynb\" target=\"_parent\"><img src=\"https://colab.research.google.com/assets/colab-badge.svg\" alt=\"Open In Colab\"/></a>"
      ]
    },
    {
      "cell_type": "code",
      "metadata": {
        "id": "JFDe4UauTgi9",
        "colab_type": "code",
        "colab": {
          "base_uri": "https://localhost:8080/",
          "height": 34
        },
        "outputId": "a373554f-23b7-476a-c874-0a9d2ec7c4d9"
      },
      "source": [
        "import pandas as pd\n",
        "import numpy as np\n",
        "import xgboost\n",
        "import matplotlib.pyplot as plt\n",
        "import seaborn as sns\n",
        "import logging\n",
        "\n",
        "from sklearn import preprocessing\n",
        "from sklearn.model_selection import train_test_split, StratifiedKFold\n",
        "from sklearn.metrics import mean_absolute_error, explained_variance_score\n",
        "from sklearn.metrics import accuracy_score\n",
        "from sklearn.linear_model import LogisticRegression, SGDClassifier\n",
        "from sklearn.naive_bayes import GaussianNB\n",
        "from sklearn.neighbors import KNeighborsClassifier\n",
        "from sklearn.tree import DecisionTreeClassifier\n",
        "from sklearn.ensemble import RandomForestClassifier\n",
        "from sklearn.svm import SVC\n",
        "from keras.models import Sequential\n",
        "from keras.layers import Dense, Dropout\n",
        "from keras.wrappers.scikit_learn import KerasClassifier\n",
        "from sklearn.model_selection import cross_val_score\n",
        "from sklearn.model_selection import GridSearchCV\n",
        "\n",
        "logging.getLogger('googleapicliet.discovery_cache').setLevel(logging.ERROR)"
      ],
      "execution_count": 1,
      "outputs": [
        {
          "output_type": "stream",
          "text": [
            "Using TensorFlow backend.\n"
          ],
          "name": "stderr"
        }
      ]
    },
    {
      "cell_type": "code",
      "metadata": {
        "id": "jUY9QxvnUaoh",
        "colab_type": "code",
        "colab": {
          "base_uri": "https://localhost:8080/",
          "height": 34
        },
        "outputId": "9c5e8e08-571a-4d2e-8ecd-b82c69cff905"
      },
      "source": [
        "# Link Google drive with Colab Notebook\n",
        "from google.colab import drive\n",
        "drive.mount('/content/drive')"
      ],
      "execution_count": 2,
      "outputs": [
        {
          "output_type": "stream",
          "text": [
            "Drive already mounted at /content/drive; to attempt to forcibly remount, call drive.mount(\"/content/drive\", force_remount=True).\n"
          ],
          "name": "stdout"
        }
      ]
    },
    {
      "cell_type": "code",
      "metadata": {
        "id": "Bpxj2N4KTgjF",
        "colab_type": "code",
        "colab": {}
      },
      "source": [
        "# Download files from Google Drive to Colab Notebook  \n",
        "df = pd.read_csv('/content/drive/My Drive/Colab Notebooks/ZS Data Science Challenge 2019/data.csv')\n",
        "train = df.copy()"
      ],
      "execution_count": 0,
      "outputs": []
    },
    {
      "cell_type": "code",
      "metadata": {
        "id": "993CUDQjTgjL",
        "colab_type": "code",
        "colab": {
          "base_uri": "https://localhost:8080/",
          "height": 326
        },
        "outputId": "e61ce45b-b31d-4e78-f6b4-d8d3160deb5a"
      },
      "source": [
        "print(train.shape)\n",
        "train.head()"
      ],
      "execution_count": 4,
      "outputs": [
        {
          "output_type": "stream",
          "text": [
            "(30697, 27)\n"
          ],
          "name": "stdout"
        },
        {
          "output_type": "execute_result",
          "data": {
            "text/html": [
              "<div>\n",
              "<style scoped>\n",
              "    .dataframe tbody tr th:only-of-type {\n",
              "        vertical-align: middle;\n",
              "    }\n",
              "\n",
              "    .dataframe tbody tr th {\n",
              "        vertical-align: top;\n",
              "    }\n",
              "\n",
              "    .dataframe thead th {\n",
              "        text-align: right;\n",
              "    }\n",
              "</style>\n",
              "<table border=\"1\" class=\"dataframe\">\n",
              "  <thead>\n",
              "    <tr style=\"text-align: right;\">\n",
              "      <th></th>\n",
              "      <th>match_event_id</th>\n",
              "      <th>location_x</th>\n",
              "      <th>location_y</th>\n",
              "      <th>remaining_min</th>\n",
              "      <th>power_of_shot</th>\n",
              "      <th>knockout_match</th>\n",
              "      <th>game_season</th>\n",
              "      <th>remaining_sec</th>\n",
              "      <th>distance_of_shot</th>\n",
              "      <th>is_goal</th>\n",
              "      <th>area_of_shot</th>\n",
              "      <th>shot_basics</th>\n",
              "      <th>range_of_shot</th>\n",
              "      <th>team_name</th>\n",
              "      <th>date_of_game</th>\n",
              "      <th>home/away</th>\n",
              "      <th>shot_id_number</th>\n",
              "      <th>lat/lng</th>\n",
              "      <th>type_of_shot</th>\n",
              "      <th>type_of_combined_shot</th>\n",
              "      <th>match_id</th>\n",
              "      <th>team_id</th>\n",
              "      <th>remaining_min.1</th>\n",
              "      <th>power_of_shot.1</th>\n",
              "      <th>knockout_match.1</th>\n",
              "      <th>remaining_sec.1</th>\n",
              "      <th>distance_of_shot.1</th>\n",
              "    </tr>\n",
              "  </thead>\n",
              "  <tbody>\n",
              "    <tr>\n",
              "      <th>0</th>\n",
              "      <td>10.0</td>\n",
              "      <td>167.0</td>\n",
              "      <td>72.0</td>\n",
              "      <td>10.0</td>\n",
              "      <td>1.0</td>\n",
              "      <td>0.0</td>\n",
              "      <td>2000-01</td>\n",
              "      <td>27.0</td>\n",
              "      <td>38.0</td>\n",
              "      <td>NaN</td>\n",
              "      <td>Right Side(R)</td>\n",
              "      <td>Mid Range</td>\n",
              "      <td>16-24 ft.</td>\n",
              "      <td>Manchester United</td>\n",
              "      <td>2000-10-31</td>\n",
              "      <td>MANU @ POR</td>\n",
              "      <td>1</td>\n",
              "      <td>45.539131, -122.651648</td>\n",
              "      <td>shot - 30</td>\n",
              "      <td>NaN</td>\n",
              "      <td>20000012</td>\n",
              "      <td>1610612747</td>\n",
              "      <td>10.00</td>\n",
              "      <td>1.0</td>\n",
              "      <td>50.608</td>\n",
              "      <td>54.2000</td>\n",
              "      <td>38.0</td>\n",
              "    </tr>\n",
              "    <tr>\n",
              "      <th>1</th>\n",
              "      <td>12.0</td>\n",
              "      <td>-157.0</td>\n",
              "      <td>0.0</td>\n",
              "      <td>10.0</td>\n",
              "      <td>1.0</td>\n",
              "      <td>0.0</td>\n",
              "      <td>2000-01</td>\n",
              "      <td>22.0</td>\n",
              "      <td>35.0</td>\n",
              "      <td>0.0</td>\n",
              "      <td>Left Side(L)</td>\n",
              "      <td>Mid Range</td>\n",
              "      <td>8-16 ft.</td>\n",
              "      <td>Manchester United</td>\n",
              "      <td>2000-10-31</td>\n",
              "      <td>MANU @ POR</td>\n",
              "      <td>2</td>\n",
              "      <td>45.539131, -122.651648</td>\n",
              "      <td>shot - 45</td>\n",
              "      <td>NaN</td>\n",
              "      <td>20000012</td>\n",
              "      <td>1610612747</td>\n",
              "      <td>10.00</td>\n",
              "      <td>1.0</td>\n",
              "      <td>28.800</td>\n",
              "      <td>22.0000</td>\n",
              "      <td>35.0</td>\n",
              "    </tr>\n",
              "    <tr>\n",
              "      <th>2</th>\n",
              "      <td>35.0</td>\n",
              "      <td>-101.0</td>\n",
              "      <td>135.0</td>\n",
              "      <td>7.0</td>\n",
              "      <td>1.0</td>\n",
              "      <td>0.0</td>\n",
              "      <td>2000-01</td>\n",
              "      <td>45.0</td>\n",
              "      <td>36.0</td>\n",
              "      <td>1.0</td>\n",
              "      <td>Left Side Center(LC)</td>\n",
              "      <td>Mid Range</td>\n",
              "      <td>16-24 ft.</td>\n",
              "      <td>Manchester United</td>\n",
              "      <td>2000-10-31</td>\n",
              "      <td>NaN</td>\n",
              "      <td>3</td>\n",
              "      <td>45.539131, -122.651648</td>\n",
              "      <td>shot - 25</td>\n",
              "      <td>NaN</td>\n",
              "      <td>20000012</td>\n",
              "      <td>1610612747</td>\n",
              "      <td>92.64</td>\n",
              "      <td>1.0</td>\n",
              "      <td>0.000</td>\n",
              "      <td>63.7216</td>\n",
              "      <td>54.4</td>\n",
              "    </tr>\n",
              "    <tr>\n",
              "      <th>3</th>\n",
              "      <td>43.0</td>\n",
              "      <td>138.0</td>\n",
              "      <td>175.0</td>\n",
              "      <td>6.0</td>\n",
              "      <td>1.0</td>\n",
              "      <td>0.0</td>\n",
              "      <td>2000-01</td>\n",
              "      <td>52.0</td>\n",
              "      <td>42.0</td>\n",
              "      <td>0.0</td>\n",
              "      <td>Right Side Center(RC)</td>\n",
              "      <td>Mid Range</td>\n",
              "      <td>16-24 ft.</td>\n",
              "      <td>Manchester United</td>\n",
              "      <td>2000-10-31</td>\n",
              "      <td>MANU @ POR</td>\n",
              "      <td>4</td>\n",
              "      <td>45.539131, -122.651648</td>\n",
              "      <td>NaN</td>\n",
              "      <td>shot - 3</td>\n",
              "      <td>20000012</td>\n",
              "      <td>1610612747</td>\n",
              "      <td>NaN</td>\n",
              "      <td>1.0</td>\n",
              "      <td>122.608</td>\n",
              "      <td>52.0000</td>\n",
              "      <td>42.0</td>\n",
              "    </tr>\n",
              "    <tr>\n",
              "      <th>4</th>\n",
              "      <td>155.0</td>\n",
              "      <td>0.0</td>\n",
              "      <td>0.0</td>\n",
              "      <td>NaN</td>\n",
              "      <td>2.0</td>\n",
              "      <td>0.0</td>\n",
              "      <td>2000-01</td>\n",
              "      <td>19.0</td>\n",
              "      <td>20.0</td>\n",
              "      <td>1.0</td>\n",
              "      <td>Center(C)</td>\n",
              "      <td>Goal Area</td>\n",
              "      <td>Less Than 8 ft.</td>\n",
              "      <td>NaN</td>\n",
              "      <td>2000-10-31</td>\n",
              "      <td>MANU @ POR</td>\n",
              "      <td>5</td>\n",
              "      <td>45.539131, -122.651648</td>\n",
              "      <td>NaN</td>\n",
              "      <td>shot - 1</td>\n",
              "      <td>20000012</td>\n",
              "      <td>1610612747</td>\n",
              "      <td>42.64</td>\n",
              "      <td>2.0</td>\n",
              "      <td>0.000</td>\n",
              "      <td>19.0000</td>\n",
              "      <td>20.0</td>\n",
              "    </tr>\n",
              "  </tbody>\n",
              "</table>\n",
              "</div>"
            ],
            "text/plain": [
              "   match_event_id  location_x  ...  remaining_sec.1  distance_of_shot.1\n",
              "0            10.0       167.0  ...          54.2000                38.0\n",
              "1            12.0      -157.0  ...          22.0000                35.0\n",
              "2            35.0      -101.0  ...          63.7216                54.4\n",
              "3            43.0       138.0  ...          52.0000                42.0\n",
              "4           155.0         0.0  ...          19.0000                20.0\n",
              "\n",
              "[5 rows x 27 columns]"
            ]
          },
          "metadata": {
            "tags": []
          },
          "execution_count": 4
        }
      ]
    },
    {
      "cell_type": "code",
      "metadata": {
        "id": "tF_uI6K1TgjR",
        "colab_type": "code",
        "colab": {}
      },
      "source": [
        "train['remaining_min'].fillna(0, inplace = True)\n",
        "train['remaining_sec'].fillna(0, inplace = True)"
      ],
      "execution_count": 0,
      "outputs": []
    },
    {
      "cell_type": "code",
      "metadata": {
        "scrolled": true,
        "id": "ib-fSFD-TgjW",
        "colab_type": "code",
        "colab": {
          "base_uri": "https://localhost:8080/",
          "height": 153
        },
        "outputId": "a9ad9486-d018-46b8-c7da-49d3a60900ce"
      },
      "source": [
        "train.columns"
      ],
      "execution_count": 6,
      "outputs": [
        {
          "output_type": "execute_result",
          "data": {
            "text/plain": [
              "Index(['match_event_id', 'location_x', 'location_y', 'remaining_min',\n",
              "       'power_of_shot', 'knockout_match', 'game_season', 'remaining_sec',\n",
              "       'distance_of_shot', 'is_goal', 'area_of_shot', 'shot_basics',\n",
              "       'range_of_shot', 'team_name', 'date_of_game', 'home/away',\n",
              "       'shot_id_number', 'lat/lng', 'type_of_shot', 'type_of_combined_shot',\n",
              "       'match_id', 'team_id', 'remaining_min.1', 'power_of_shot.1',\n",
              "       'knockout_match.1', 'remaining_sec.1', 'distance_of_shot.1'],\n",
              "      dtype='object')"
            ]
          },
          "metadata": {
            "tags": []
          },
          "execution_count": 6
        }
      ]
    },
    {
      "cell_type": "code",
      "metadata": {
        "id": "xp1c1r68Tgja",
        "colab_type": "code",
        "colab": {}
      },
      "source": [
        "del(train['team_name'])\n",
        "del(train['team_id'])\n",
        "del(train['match_event_id'])\n",
        "del(train['date_of_game'])\n",
        "del(train['remaining_min.1'])\n",
        "del(train['power_of_shot.1'])\n",
        "del(train['knockout_match.1'])\n",
        "del(train['remaining_sec.1'])\n",
        "del(train['distance_of_shot.1'])"
      ],
      "execution_count": 0,
      "outputs": []
    },
    {
      "cell_type": "code",
      "metadata": {
        "id": "kfjKLfsmTgjj",
        "colab_type": "code",
        "colab": {
          "base_uri": "https://localhost:8080/",
          "height": 680
        },
        "outputId": "2c582b01-0ca5-4cd8-9e41-6f29bdf70257"
      },
      "source": [
        "train['lat/lng'].fillna(method = 'bfill', inplace = True)\n",
        "train['lat/lng'].value_counts()"
      ],
      "execution_count": 8,
      "outputs": [
        {
          "output_type": "execute_result",
          "data": {
            "text/plain": [
              "42.982923, -71.446094     14952\n",
              "29.444994, -98.524120      1022\n",
              "38.567296, -121.456638      887\n",
              "39.739968, -104.954013      872\n",
              "33.552026, -112.071667      861\n",
              "29.740325, -95.365762       790\n",
              "45.539131, -122.651648      786\n",
              "46.667324, -94.419250       749\n",
              "40.774891, -111.930790      740\n",
              "37.754130, -122.437947      685\n",
              "34.189593, -118.471724      625\n",
              "32.757824, -96.786653       615\n",
              "42.330507, -71.074655       526\n",
              "35.103812, -89.964007       514\n",
              "47.633181, -122.308343      427\n",
              "28.549237, -81.372780       412\n",
              "39.993941, -75.143458       393\n",
              "42.379455, -83.115635       373\n",
              "40.361408, -86.186052       351\n",
              "43.717098, -79.395917       338\n",
              "40.708999, -73.872430       329\n",
              "38.919619, -77.015211       326\n",
              "41.484971, -81.671552       322\n",
              "35.492151, -97.519011       318\n",
              "41.845137, -87.660450       311\n",
              "33.768092, -84.393817       301\n",
              "25.790710, -80.207819       296\n",
              "30.018061, -90.022651       284\n",
              "43.062206, -87.944754       284\n",
              "40.643505, -73.939507       279\n",
              "35.262047, -80.865746       224\n",
              "49.250068, -123.114646      131\n",
              "30.028164, -89.997933       128\n",
              "30.055498, -89.960838        84\n",
              "35.205878, -80.841194        69\n",
              "40.623199, -73.951223        40\n",
              "33.513157, -112.082793       33\n",
              "40.324211, -111.674849       20\n",
              "Name: lat/lng, dtype: int64"
            ]
          },
          "metadata": {
            "tags": []
          },
          "execution_count": 8
        }
      ]
    },
    {
      "cell_type": "code",
      "metadata": {
        "id": "L1j0-cSRTgjn",
        "colab_type": "code",
        "colab": {}
      },
      "source": [
        "train['is_home'] = (train['lat/lng'] == '42.982923, -71.446094')"
      ],
      "execution_count": 0,
      "outputs": []
    },
    {
      "cell_type": "code",
      "metadata": {
        "id": "YImYE9JwTgjs",
        "colab_type": "code",
        "colab": {}
      },
      "source": [
        "del(train['lat/lng'])"
      ],
      "execution_count": 0,
      "outputs": []
    },
    {
      "cell_type": "code",
      "metadata": {
        "id": "G7xk6dKYTgjx",
        "colab_type": "code",
        "colab": {}
      },
      "source": [
        "train['remaining_time'] = train['remaining_min'] * 60 + train['remaining_sec']"
      ],
      "execution_count": 0,
      "outputs": []
    },
    {
      "cell_type": "code",
      "metadata": {
        "id": "OdoTmdGiTgj2",
        "colab_type": "code",
        "colab": {}
      },
      "source": [
        "del(train['remaining_min'])\n",
        "del(train['remaining_sec'])"
      ],
      "execution_count": 0,
      "outputs": []
    },
    {
      "cell_type": "code",
      "metadata": {
        "scrolled": true,
        "id": "QLtwS4bzTgj6",
        "colab_type": "code",
        "colab": {
          "base_uri": "https://localhost:8080/",
          "height": 34
        },
        "outputId": "8caddcf8-2bab-4ecb-c682-ea3eb87f1b8b"
      },
      "source": [
        "len(train['match_id'].unique().tolist())"
      ],
      "execution_count": 13,
      "outputs": [
        {
          "output_type": "execute_result",
          "data": {
            "text/plain": [
              "1559"
            ]
          },
          "metadata": {
            "tags": []
          },
          "execution_count": 13
        }
      ]
    },
    {
      "cell_type": "code",
      "metadata": {
        "id": "uYTJ0gBvTgj-",
        "colab_type": "code",
        "colab": {
          "base_uri": "https://localhost:8080/",
          "height": 34
        },
        "outputId": "7cb6b1ea-3366-4f68-d320-1edaf7a851dc"
      },
      "source": [
        "len(train['home/away'].unique().tolist())"
      ],
      "execution_count": 14,
      "outputs": [
        {
          "output_type": "execute_result",
          "data": {
            "text/plain": [
              "75"
            ]
          },
          "metadata": {
            "tags": []
          },
          "execution_count": 14
        }
      ]
    },
    {
      "cell_type": "code",
      "metadata": {
        "id": "nfuv-RI3TgkC",
        "colab_type": "code",
        "colab": {}
      },
      "source": [
        "def change_value(from_col, to_col):\n",
        "    sep = train.copy()\n",
        "    sep = sep.dropna(axis=0, subset=[to_col])\n",
        "    dic = {}\n",
        "    for val in sep[from_col].unique():\n",
        "        dic[val] = sep[to_col][sep[from_col] == val].unique()[0]\n",
        "    for i, row in df.iterrows():\n",
        "        if row[to_col] is np.nan:\n",
        "            train.at[i,to_col] = dic[df.iloc[i][from_col]]"
      ],
      "execution_count": 0,
      "outputs": []
    },
    {
      "cell_type": "code",
      "metadata": {
        "id": "5ntsP9JuTgkH",
        "colab_type": "code",
        "colab": {}
      },
      "source": [
        "change_value('match_id', 'home/away')\n",
        "train['knockout_match'].fillna(method = 'bfill', inplace = True)\n",
        "train['game_season'].fillna(method = 'bfill', inplace = True)\n",
        "train['power_of_shot'].fillna(method = 'bfill', inplace = True)"
      ],
      "execution_count": 0,
      "outputs": []
    },
    {
      "cell_type": "code",
      "metadata": {
        "id": "Y-cO9ScKTgkM",
        "colab_type": "code",
        "colab": {}
      },
      "source": [
        "del(train['match_id'])"
      ],
      "execution_count": 0,
      "outputs": []
    },
    {
      "cell_type": "code",
      "metadata": {
        "scrolled": false,
        "id": "cAxm0M81TgkQ",
        "colab_type": "code",
        "colab": {
          "base_uri": "https://localhost:8080/",
          "height": 374
        },
        "outputId": "2eedecb0-f00c-483a-b990-6bf4e011d3ee"
      },
      "source": [
        "train.info()"
      ],
      "execution_count": 18,
      "outputs": [
        {
          "output_type": "stream",
          "text": [
            "<class 'pandas.core.frame.DataFrame'>\n",
            "RangeIndex: 30697 entries, 0 to 30696\n",
            "Data columns (total 16 columns):\n",
            "location_x               29236 non-null float64\n",
            "location_y               29157 non-null float64\n",
            "power_of_shot            30697 non-null float64\n",
            "knockout_match           30697 non-null float64\n",
            "game_season              30697 non-null object\n",
            "distance_of_shot         29130 non-null float64\n",
            "is_goal                  24429 non-null float64\n",
            "area_of_shot             29195 non-null object\n",
            "shot_basics              29122 non-null object\n",
            "range_of_shot            29133 non-null object\n",
            "home/away                30697 non-null object\n",
            "shot_id_number           30697 non-null int64\n",
            "type_of_shot             15417 non-null object\n",
            "type_of_combined_shot    15280 non-null object\n",
            "is_home                  30697 non-null bool\n",
            "remaining_time           30697 non-null float64\n",
            "dtypes: bool(1), float64(7), int64(1), object(7)\n",
            "memory usage: 3.5+ MB\n"
          ],
          "name": "stdout"
        }
      ]
    },
    {
      "cell_type": "code",
      "metadata": {
        "id": "YODWdpXLTgkU",
        "colab_type": "code",
        "colab": {}
      },
      "source": [
        "train.loc[train['type_of_combined_shot'].notnull(), 'type_of_combined_shot'] = 'str' + train['type_of_combined_shot'].astype(str)"
      ],
      "execution_count": 0,
      "outputs": []
    },
    {
      "cell_type": "code",
      "metadata": {
        "id": "Mrjwv5fJTgkZ",
        "colab_type": "code",
        "colab": {}
      },
      "source": [
        "train['type_of_shot'] = train.apply(\n",
        "    lambda row: row['type_of_combined_shot'] if pd.isnull(row['type_of_shot']) else row['type_of_shot'],\n",
        "    axis=1\n",
        ")"
      ],
      "execution_count": 0,
      "outputs": []
    },
    {
      "cell_type": "code",
      "metadata": {
        "id": "64vfTfISTgke",
        "colab_type": "code",
        "colab": {}
      },
      "source": [
        "del(train['type_of_combined_shot'])"
      ],
      "execution_count": 0,
      "outputs": []
    },
    {
      "cell_type": "code",
      "metadata": {
        "scrolled": true,
        "id": "HSbKrnI8Tgki",
        "colab_type": "code",
        "colab": {
          "base_uri": "https://localhost:8080/",
          "height": 289
        },
        "outputId": "fce29b6b-0fad-4541-e023-8f98becaa13c"
      },
      "source": [
        "train.isnull().sum()"
      ],
      "execution_count": 22,
      "outputs": [
        {
          "output_type": "execute_result",
          "data": {
            "text/plain": [
              "location_x          1461\n",
              "location_y          1540\n",
              "power_of_shot          0\n",
              "knockout_match         0\n",
              "game_season            0\n",
              "distance_of_shot    1567\n",
              "is_goal             6268\n",
              "area_of_shot        1502\n",
              "shot_basics         1575\n",
              "range_of_shot       1564\n",
              "home/away              0\n",
              "shot_id_number         0\n",
              "type_of_shot           0\n",
              "is_home                0\n",
              "remaining_time         0\n",
              "dtype: int64"
            ]
          },
          "metadata": {
            "tags": []
          },
          "execution_count": 22
        }
      ]
    },
    {
      "cell_type": "code",
      "metadata": {
        "id": "8wXWGt_XTgkm",
        "colab_type": "code",
        "colab": {
          "base_uri": "https://localhost:8080/",
          "height": 153
        },
        "outputId": "e72b502f-5c4e-4867-a203-8b5899375b0b"
      },
      "source": [
        "train['power_of_shot'].value_counts()"
      ],
      "execution_count": 23,
      "outputs": [
        {
          "output_type": "execute_result",
          "data": {
            "text/plain": [
              "3.0    8308\n",
              "1.0    8032\n",
              "4.0    7259\n",
              "2.0    6721\n",
              "5.0     330\n",
              "6.0      40\n",
              "7.0       7\n",
              "Name: power_of_shot, dtype: int64"
            ]
          },
          "metadata": {
            "tags": []
          },
          "execution_count": 23
        }
      ]
    },
    {
      "cell_type": "code",
      "metadata": {
        "scrolled": true,
        "id": "Jtt1BI4hTgkr",
        "colab_type": "code",
        "colab": {
          "base_uri": "https://localhost:8080/",
          "height": 136
        },
        "outputId": "5da932e5-58bc-4216-eb92-b9b162967db7"
      },
      "source": [
        "train['area_of_shot'].value_counts()"
      ],
      "execution_count": 24,
      "outputs": [
        {
          "output_type": "execute_result",
          "data": {
            "text/plain": [
              "Center(C)                12761\n",
              "Right Side Center(RC)     4562\n",
              "Right Side(R)             4370\n",
              "Left Side Center(LC)      3848\n",
              "Left Side(L)              3573\n",
              "Mid Ground(MG)              81\n",
              "Name: area_of_shot, dtype: int64"
            ]
          },
          "metadata": {
            "tags": []
          },
          "execution_count": 24
        }
      ]
    },
    {
      "cell_type": "code",
      "metadata": {
        "id": "sNpG2cGiTgkv",
        "colab_type": "code",
        "colab": {
          "base_uri": "https://localhost:8080/",
          "height": 153
        },
        "outputId": "2fc5dabb-be85-48ec-c67e-74e312e3e22b"
      },
      "source": [
        "train['shot_basics'].value_counts()"
      ],
      "execution_count": 25,
      "outputs": [
        {
          "output_type": "execute_result",
          "data": {
            "text/plain": [
              "Mid Range          11955\n",
              "Goal Area           6787\n",
              "Penalty Spot        5321\n",
              "Goal Line           4357\n",
              "Right Corner         367\n",
              "Left Corner          268\n",
              "Mid Ground Line       67\n",
              "Name: shot_basics, dtype: int64"
            ]
          },
          "metadata": {
            "tags": []
          },
          "execution_count": 25
        }
      ]
    },
    {
      "cell_type": "code",
      "metadata": {
        "scrolled": true,
        "id": "VOrHjqSATgky",
        "colab_type": "code",
        "colab": {
          "base_uri": "https://localhost:8080/",
          "height": 119
        },
        "outputId": "995a5aba-d1d5-44ac-eec0-1f8a1aa17459"
      },
      "source": [
        "train['range_of_shot'].value_counts()"
      ],
      "execution_count": 26,
      "outputs": [
        {
          "output_type": "execute_result",
          "data": {
            "text/plain": [
              "Less Than 8 ft.    8933\n",
              "16-24 ft.          7892\n",
              "8-16 ft.           6290\n",
              "24+ ft.            5937\n",
              "Back Court Shot      81\n",
              "Name: range_of_shot, dtype: int64"
            ]
          },
          "metadata": {
            "tags": []
          },
          "execution_count": 26
        }
      ]
    },
    {
      "cell_type": "code",
      "metadata": {
        "id": "IMfsdx18Tgk2",
        "colab_type": "code",
        "colab": {}
      },
      "source": [
        "train['location_x'].fillna(train['location_x'].mean(), inplace = True)\n",
        "train['location_y'].fillna(train['location_y'].mean(), inplace = True)\n",
        "train['distance_of_shot'].fillna(train['distance_of_shot'].mean(), inplace = True)"
      ],
      "execution_count": 0,
      "outputs": []
    },
    {
      "cell_type": "code",
      "metadata": {
        "id": "jhBETDpCTgk6",
        "colab_type": "code",
        "colab": {}
      },
      "source": [
        "def modify(df = train):\n",
        "    train['range_of_shot'].loc[(train['shot_basics'] == 'Goal Area')] = 'Less Than 8 ft.'\n",
        "    train['area_of_shot'].loc[(train['shot_basics'] == 'Goal Area')] = 'Center(C)'\n",
        "    train['range_of_shot'].loc[(train['shot_basics'] == 'Left Corner')] = '24+ ft.'\n",
        "    train['area_of_shot'].loc[(train['shot_basics'] == 'Left Corner')] = 'Left Side(L)'\n",
        "    train['range_of_shot'].loc[(train['shot_basics'] == 'Mid Ground Line')] = 'Back Court Shot'\n",
        "    train['area_of_shot'].loc[(train['shot_basics'] == 'Mid Ground Line')] = 'Mid Ground(MG)'\n",
        "    train['range_of_shot'].loc[(train['shot_basics'] == 'Right Corner')] = '24+ ft.'\n",
        "    train['area_of_shot'].loc[(train['shot_basics'] == 'Right Corner')] = 'Right Side(R)'\n",
        "    train['shot_basics'].loc[(train['range_of_shot'] == '16-24 ft.')] = 'Mid Range'\n",
        "\n",
        "    train['range_of_shot'].loc[(train['shot_basics'] == 'Goal Line') & (train['area_of_shot'] == 'Left Side(L)')] = '8-16 ft.'\n",
        "    train['range_of_shot'].loc[(train['shot_basics'] == 'Goal Line') & (train['area_of_shot'] == 'Right Side(R)')] = '8-16 ft.'\n",
        "    train['area_of_shot'].loc[(train['shot_basics'] == 'Goal Line') & (train['range_of_shot'] == 'Less Than 8 ft.')] = 'Center(C)'\n",
        "    train['range_of_shot'].loc[(train['shot_basics'] == 'Mid Range') & (train['area_of_shot'] == 'Left Side Center(LC)')] = '16-24 ft.'\n",
        "    train['range_of_shot'].loc[(train['shot_basics'] == 'Mid Range') & (train['area_of_shot'] == 'Right Side Center(RC)')] = '16-24 ft.'\n",
        "    train['range_of_shot'].loc[(train['shot_basics'] == 'Penalty Spot') & (train['area_of_shot'] == 'Center(C)')] = '24+ ft.'\n",
        "    train['range_of_shot'].loc[(train['shot_basics'] == 'Penalty Spot') & (train['area_of_shot'] == 'Left Side Center(LC)')] = '24+ ft.'\n",
        "    train['range_of_shot'].loc[(train['shot_basics'] == 'Penalty Spot') & (train['area_of_shot'] == 'Right Side Center(RC)')] = '24+ ft.'\n",
        "    train['shot_basics'].loc[(train['area_of_shot'] == 'Center(C)') & (train['range_of_shot'] == '24+ ft.')] = 'Penalty Spot'\n",
        "    train['shot_basics'].loc[(train['area_of_shot'] == 'Left Side Center(LC)') & (train['range_of_shot'] == '24+ ft.')] = 'Penalty Spot'\n",
        "    train['shot_basics'].loc[(train['area_of_shot'] == 'Right Side Center(RC)') & (train['range_of_shot'] == '24+ ft.')] = 'Penalty Spot'"
      ],
      "execution_count": 0,
      "outputs": []
    },
    {
      "cell_type": "code",
      "metadata": {
        "scrolled": true,
        "id": "WkfPMkayTgk-",
        "colab_type": "code",
        "colab": {
          "base_uri": "https://localhost:8080/",
          "height": 102
        },
        "outputId": "4820d173-68ac-4f65-fccb-1c9e837fc022"
      },
      "source": [
        "modify(train)\n",
        "train['area_of_shot'].fillna(train['area_of_shot'].mode()[0], inplace = True)"
      ],
      "execution_count": 29,
      "outputs": [
        {
          "output_type": "stream",
          "text": [
            "/usr/local/lib/python3.6/dist-packages/pandas/core/indexing.py:190: SettingWithCopyWarning: \n",
            "A value is trying to be set on a copy of a slice from a DataFrame\n",
            "\n",
            "See the caveats in the documentation: http://pandas.pydata.org/pandas-docs/stable/indexing.html#indexing-view-versus-copy\n",
            "  self._setitem_with_indexer(indexer, value)\n"
          ],
          "name": "stderr"
        }
      ]
    },
    {
      "cell_type": "code",
      "metadata": {
        "id": "A8TgI2TVTglC",
        "colab_type": "code",
        "colab": {
          "base_uri": "https://localhost:8080/",
          "height": 102
        },
        "outputId": "6a2c16a6-64e0-4d04-d8d4-2c8c182fd2b5"
      },
      "source": [
        "modify(train)\n",
        "train['shot_basics'].fillna(train['shot_basics'].mode()[0], inplace = True)"
      ],
      "execution_count": 30,
      "outputs": [
        {
          "output_type": "stream",
          "text": [
            "/usr/local/lib/python3.6/dist-packages/pandas/core/indexing.py:190: SettingWithCopyWarning: \n",
            "A value is trying to be set on a copy of a slice from a DataFrame\n",
            "\n",
            "See the caveats in the documentation: http://pandas.pydata.org/pandas-docs/stable/indexing.html#indexing-view-versus-copy\n",
            "  self._setitem_with_indexer(indexer, value)\n"
          ],
          "name": "stderr"
        }
      ]
    },
    {
      "cell_type": "code",
      "metadata": {
        "id": "AI1IgsuhTglG",
        "colab_type": "code",
        "colab": {
          "base_uri": "https://localhost:8080/",
          "height": 102
        },
        "outputId": "d7fc016c-6cc4-4fed-85f2-e780ff3a4015"
      },
      "source": [
        "modify(train)\n",
        "train['range_of_shot'].fillna(method = 'bfill', inplace = True)"
      ],
      "execution_count": 31,
      "outputs": [
        {
          "output_type": "stream",
          "text": [
            "/usr/local/lib/python3.6/dist-packages/pandas/core/indexing.py:190: SettingWithCopyWarning: \n",
            "A value is trying to be set on a copy of a slice from a DataFrame\n",
            "\n",
            "See the caveats in the documentation: http://pandas.pydata.org/pandas-docs/stable/indexing.html#indexing-view-versus-copy\n",
            "  self._setitem_with_indexer(indexer, value)\n"
          ],
          "name": "stderr"
        }
      ]
    },
    {
      "cell_type": "code",
      "metadata": {
        "id": "6smmfDu1TglJ",
        "colab_type": "code",
        "colab": {
          "base_uri": "https://localhost:8080/",
          "height": 289
        },
        "outputId": "c74acae4-0c02-49b7-886b-7c8571d7267e"
      },
      "source": [
        "train.isnull().sum()"
      ],
      "execution_count": 32,
      "outputs": [
        {
          "output_type": "execute_result",
          "data": {
            "text/plain": [
              "location_x             0\n",
              "location_y             0\n",
              "power_of_shot          0\n",
              "knockout_match         0\n",
              "game_season            0\n",
              "distance_of_shot       0\n",
              "is_goal             6268\n",
              "area_of_shot           0\n",
              "shot_basics            0\n",
              "range_of_shot          0\n",
              "home/away              0\n",
              "shot_id_number         0\n",
              "type_of_shot           0\n",
              "is_home                0\n",
              "remaining_time         0\n",
              "dtype: int64"
            ]
          },
          "metadata": {
            "tags": []
          },
          "execution_count": 32
        }
      ]
    },
    {
      "cell_type": "code",
      "metadata": {
        "id": "2uPinU2gTglP",
        "colab_type": "code",
        "colab": {}
      },
      "source": [
        "le = preprocessing.LabelEncoder()\n",
        "train['game_season'] = le.fit_transform(train['game_season'])\n",
        "train['area_of_shot'] = le.fit_transform(train['area_of_shot'])\n",
        "train['shot_basics'] = le.fit_transform(train['shot_basics'])\n",
        "train['range_of_shot'] = le.fit_transform(train['range_of_shot'])\n",
        "train['home/away'] = le.fit_transform(train['home/away'])\n",
        "train['type_of_shot'] = le.fit_transform(train['type_of_shot'])"
      ],
      "execution_count": 0,
      "outputs": []
    },
    {
      "cell_type": "code",
      "metadata": {
        "scrolled": false,
        "id": "cIYXyJvYTglU",
        "colab_type": "code",
        "colab": {
          "base_uri": "https://localhost:8080/",
          "height": 1000
        },
        "outputId": "2a1c17f5-426e-4ee0-af42-3c844f7b179f"
      },
      "source": [
        "plt.figure()\n",
        "sns.distplot(train['power_of_shot'])\n",
        "plt.figure()\n",
        "sns.distplot(train['knockout_match'])\n",
        "plt.figure()\n",
        "sns.distplot(train['game_season'])\n",
        "plt.figure()\n",
        "sns.distplot(train['area_of_shot'])\n",
        "plt.figure()\n",
        "sns.distplot(train['shot_basics'])\n",
        "plt.figure()\n",
        "sns.distplot(train['range_of_shot'])"
      ],
      "execution_count": 34,
      "outputs": [
        {
          "output_type": "execute_result",
          "data": {
            "text/plain": [
              "<matplotlib.axes._subplots.AxesSubplot at 0x7fce9748c6a0>"
            ]
          },
          "metadata": {
            "tags": []
          },
          "execution_count": 34
        },
        {
          "output_type": "display_data",
          "data": {
            "image/png": "[encoded data removed]",
            "text/plain": [
              "<Figure size 432x288 with 1 Axes>"
            ]
          },
          "metadata": {
            "tags": []
          }
        },
        {
          "output_type": "display_data",
          "data": {
            "image/png": "[encoded data removed]",
            "text/plain": [
              "<Figure size 432x288 with 1 Axes>"
            ]
          },
          "metadata": {
            "tags": []
          }
        },
        {
          "output_type": "display_data",
          "data": {
            "image/png": "[encoded data removed]",
            "text/plain": [
              "<Figure size 432x288 with 1 Axes>"
            ]
          },
          "metadata": {
            "tags": []
          }
        },
        {
          "output_type": "display_data",
          "data": {
            "image/png": "[encoded data removed]",
            "text/plain": [
              "<Figure size 432x288 with 1 Axes>"
            ]
          },
          "metadata": {
            "tags": []
          }
        },
        {
          "output_type": "display_data",
          "data": {
            "image/png": "[encoded data removed]",
            "text/plain": [
              "<Figure size 432x288 with 1 Axes>"
            ]
          },
          "metadata": {
            "tags": []
          }
        },
        {
          "output_type": "display_data",
          "data": {
            "image/png": "[encoded data removed]",
            "text/plain": [
              "<Figure size 432x288 with 1 Axes>"
            ]
          },
          "metadata": {
            "tags": []
          }
        }
      ]
    },
    {
      "cell_type": "code",
      "metadata": {
        "id": "oqbcQpYKTgla",
        "colab_type": "code",
        "colab": {
          "base_uri": "https://localhost:8080/",
          "height": 584
        },
        "outputId": "653287e4-5050-4cdb-8284-aa103080e975"
      },
      "source": [
        "# Plotting a correlation matrix to check if any features can be removed to improve accuracy\n",
        "correlations = train.corr()\n",
        "fig = plt.figure(figsize=(10, 10))\n",
        "ax = fig.add_subplot(111)\n",
        "cax = ax.matshow(correlations, vmin=-1, vmax=1)\n",
        "fig.colorbar(cax)\n",
        "ticks = np.arange(0,15,1)\n",
        "ax.set_xticks(ticks)\n",
        "ax.set_yticks(ticks)\n",
        "ax.set_yticklabels(train.columns)\n",
        "plt.show()"
      ],
      "execution_count": 35,
      "outputs": [
        {
          "output_type": "display_data",
          "data": {
            "image/png": "[encoded data removed]",
            "text/plain": [
              "<Figure size 720x720 with 2 Axes>"
            ]
          },
          "metadata": {
            "tags": []
          }
        }
      ]
    },
    {
      "cell_type": "code",
      "metadata": {
        "id": "mD64yxPtTglf",
        "colab_type": "code",
        "colab": {
          "base_uri": "https://localhost:8080/",
          "height": 34
        },
        "outputId": "46a5e318-71c3-4a20-9df9-d43ec073754a"
      },
      "source": [
        "labels = ['game_season', 'area_of_shot', 'shot_basics', 'range_of_shot', 'home/away', 'type_of_shot']\n",
        "for label in labels:\n",
        "    dummies = pd.get_dummies(train[label]).rename(columns=lambda x: label + '_' + str(x))\n",
        "    train = pd.concat([train, dummies], axis=1)\n",
        "    train = train.drop([label], axis=1)\n",
        "train.shape"
      ],
      "execution_count": 36,
      "outputs": [
        {
          "output_type": "execute_result",
          "data": {
            "text/plain": [
              "(30697, 184)"
            ]
          },
          "metadata": {
            "tags": []
          },
          "execution_count": 36
        }
      ]
    },
    {
      "cell_type": "code",
      "metadata": {
        "id": "vVLkjaCHTglj",
        "colab_type": "code",
        "colab": {}
      },
      "source": [
        "sc = preprocessing.StandardScaler()\n",
        "train[['location_x', 'location_y', 'power_of_shot', 'distance_of_shot', 'remaining_time']] = sc.fit_transform(train[['location_x', 'location_y', 'power_of_shot', 'distance_of_shot', 'remaining_time']])"
      ],
      "execution_count": 0,
      "outputs": []
    },
    {
      "cell_type": "code",
      "metadata": {
        "id": "7Z6zE9CgTglm",
        "colab_type": "code",
        "colab": {}
      },
      "source": [
        "train = train.drop(columns = ['shot_id_number'])"
      ],
      "execution_count": 0,
      "outputs": []
    },
    {
      "cell_type": "code",
      "metadata": {
        "id": "MtHJQ7bUTgls",
        "colab_type": "code",
        "colab": {
          "base_uri": "https://localhost:8080/",
          "height": 51
        },
        "outputId": "bcc91651-ae66-42b0-c1b2-c796c9d401b8"
      },
      "source": [
        "train_final = train.dropna(axis=0, subset=['is_goal'])\n",
        "train_final.index = range(len(train_final))\n",
        "print(len(train_final))\n",
        "train_final.to_csv('train.csv', index = False)\n",
        "\n",
        "test_final = train[train['is_goal'].isnull()]\n",
        "test_final.index =  range(len(test_final))\n",
        "print(len(test_final))\n",
        "test_final.to_csv('test.csv', index = False)"
      ],
      "execution_count": 39,
      "outputs": [
        {
          "output_type": "stream",
          "text": [
            "24429\n",
            "6268\n"
          ],
          "name": "stdout"
        }
      ]
    },
    {
      "cell_type": "code",
      "metadata": {
        "id": "RI1Okc_cTgl0",
        "colab_type": "code",
        "colab": {}
      },
      "source": [
        "def algo(clf):\n",
        "    clf.fit(X_train_final,y_train_final)\n",
        "    pred = clf.predict(X_train_final)\n",
        "    pred_test = clf.predict(X_val_final)\n",
        "    print (accuracy_score(y_train_final, pred))\n",
        "    print (accuracy_score(y_val_final, pred_test))\n",
        "    pred = clf.predict_proba(X_train_final)\n",
        "    pred_test = clf.predict_proba(X_val_final)\n",
        "    score = 1 / (1 + mean_absolute_error(y_train_final, pred[:, 1]))\n",
        "    score_val = 1 / (1 + mean_absolute_error(y_val_final, pred_test[:, 1]))\n",
        "    print(score, score_val)"
      ],
      "execution_count": 0,
      "outputs": []
    },
    {
      "cell_type": "code",
      "metadata": {
        "id": "WC0TGTQbTgmA",
        "colab_type": "code",
        "colab": {}
      },
      "source": [
        "def algo_final(clf):\n",
        "    i=1\n",
        "    kf = StratifiedKFold(n_splits=5,random_state=7,shuffle=True) \n",
        "\n",
        "    for train_index,test_index in kf.split(X_train,y_train):    \n",
        "        print('\\n{} of kfold {}'.format(i,kf.n_splits))   \n",
        "        xtr,xvl = np.array(X_train.loc[train_index]),np.array(X_train.loc[test_index])     \n",
        "        ytr,yvl = np.array(y_train[train_index]),np.array(y_train[test_index])    \n",
        "        clf.fit(xtr, ytr)\n",
        "        pred = clf.predict(xtr)\n",
        "        pred_test = clf.predict(xvl)   \n",
        "        print (accuracy_score(ytr, pred))\n",
        "        print (accuracy_score(yvl, pred_test))   \n",
        "        i+=1 "
      ],
      "execution_count": 0,
      "outputs": []
    },
    {
      "cell_type": "code",
      "metadata": {
        "id": "YOw4nBwhTgmE",
        "colab_type": "code",
        "colab": {}
      },
      "source": [
        "X_train = train_final.drop(columns = ['is_goal'])\n",
        "y_train = train_final['is_goal']\n",
        "# X_train_final, X_val_final, y_train_final, y_val_final = train_test_split(X_train, y_train, test_size=0.3, random_state=42)\n",
        "# skf = StratifiedKFold(n_splits=2, random_state = 7, shuffle = True)\n",
        "# skf.get_n_splits(X, y)\n",
        "X_test_final = np.array(test_final.drop(columns = ['is_goal']))"
      ],
      "execution_count": 0,
      "outputs": []
    },
    {
      "cell_type": "code",
      "metadata": {
        "scrolled": false,
        "id": "1eYoIa2JTgmN",
        "colab_type": "code",
        "colab": {
          "base_uri": "https://localhost:8080/",
          "height": 34
        },
        "outputId": "a1aead46-993c-407a-c769-54d3436479ff"
      },
      "source": [
        "# clf1 = LogisticRegression(C = 0.3, penalty = 'l1', solver = 'liblinear', random_state = 7, max_iter = 1000)\n",
        "# algo_final(clf1)\n",
        "parameters = {\n",
        "    'penalty' : ('l1', 'l2'),\n",
        "    'C' : [0.03, 0.1, 0.3, 1, 3],\n",
        "    'solver' : ('liblinear', 'saga')\n",
        "}\n",
        "gs = GridSearchCV(estimator = LogisticRegression(random_state = 7, max_iter = 1000), param_grid = parameters, n_jobs = 4, scoring = 'accuracy', iid =  False, cv = 3)\n",
        "gs.fit(X_train,y_train)\n",
        "gs.best_params_, gs.best_score_"
      ],
      "execution_count": 43,
      "outputs": [
        {
          "output_type": "execute_result",
          "data": {
            "text/plain": [
              "({'C': 0.3, 'penalty': 'l1', 'solver': 'liblinear'}, 0.6155798198126754)"
            ]
          },
          "metadata": {
            "tags": []
          },
          "execution_count": 43
        }
      ]
    },
    {
      "cell_type": "code",
      "metadata": {
        "scrolled": false,
        "id": "rP3I6tglTgmR",
        "colab_type": "code",
        "colab": {
          "base_uri": "https://localhost:8080/",
          "height": 357
        },
        "outputId": "d09678ca-af38-4e2a-c72b-ad56f2ddc420"
      },
      "source": [
        "clf = GaussianNB()\n",
        "algo_final(clf)"
      ],
      "execution_count": 44,
      "outputs": [
        {
          "output_type": "stream",
          "text": [
            "\n",
            "1 of kfold 5\n",
            "0.5105152740111549\n",
            "0.49979533360622186\n",
            "\n",
            "2 of kfold 5\n",
            "0.5308806222176738\n",
            "0.5186246418338109\n",
            "\n",
            "3 of kfold 5\n",
            "0.5379931433249757\n",
            "0.5249693000409332\n",
            "\n",
            "4 of kfold 5\n",
            "0.5252520083917516\n",
            "0.5169873106835857\n",
            "\n",
            "5 of kfold 5\n",
            "0.5298812934916087\n",
            "0.5230296827021494\n"
          ],
          "name": "stdout"
        }
      ]
    },
    {
      "cell_type": "code",
      "metadata": {
        "id": "6x9iGMA8TgmU",
        "colab_type": "code",
        "colab": {
          "base_uri": "https://localhost:8080/",
          "height": 357
        },
        "outputId": "8e1af892-1375-429c-ad20-275cb41c4719"
      },
      "source": [
        "clf2 = SGDClassifier(max_iter=1000, tol=1e-3)\n",
        "algo_final(clf)"
      ],
      "execution_count": 45,
      "outputs": [
        {
          "output_type": "stream",
          "text": [
            "\n",
            "1 of kfold 5\n",
            "0.5105152740111549\n",
            "0.49979533360622186\n",
            "\n",
            "2 of kfold 5\n",
            "0.5308806222176738\n",
            "0.5186246418338109\n",
            "\n",
            "3 of kfold 5\n",
            "0.5379931433249757\n",
            "0.5249693000409332\n",
            "\n",
            "4 of kfold 5\n",
            "0.5252520083917516\n",
            "0.5169873106835857\n",
            "\n",
            "5 of kfold 5\n",
            "0.5298812934916087\n",
            "0.5230296827021494\n"
          ],
          "name": "stdout"
        }
      ]
    },
    {
      "cell_type": "code",
      "metadata": {
        "id": "BWnnyuqyTgmX",
        "colab_type": "code",
        "colab": {
          "base_uri": "https://localhost:8080/",
          "height": 34
        },
        "outputId": "a173f28e-1a60-4adc-b128-837ddffc196e"
      },
      "source": [
        "# clf = KNeighborsClassifier(n_neighbors=3)\n",
        "# algo_final(clf)\n",
        "parameters = {\n",
        "    'n_neighbors' : [1, 3, 10],\n",
        "    'weights' : ('uniform', 'distance')\n",
        "}\n",
        "gs = GridSearchCV(estimator = KNeighborsClassifier(algorithm = 'auto'), param_grid = parameters, n_jobs = 4, scoring = 'accuracy', iid =  False, cv = 3)\n",
        "gs.fit(X_train,y_train)\n",
        "gs.best_params_, gs.best_score_"
      ],
      "execution_count": 46,
      "outputs": [
        {
          "output_type": "execute_result",
          "data": {
            "text/plain": [
              "({'n_neighbors': 10, 'weights': 'uniform'}, 0.588275978669664)"
            ]
          },
          "metadata": {
            "tags": []
          },
          "execution_count": 46
        }
      ]
    },
    {
      "cell_type": "code",
      "metadata": {
        "id": "XSBwnoGOTgmZ",
        "colab_type": "code",
        "colab": {
          "base_uri": "https://localhost:8080/",
          "height": 34
        },
        "outputId": "57cef911-f9ab-4196-e1f2-291a71c593de"
      },
      "source": [
        "# clf2 = DecisionTreeClassifier(max_depth=10, random_state = 7)\n",
        "# algo_final(clf2)\n",
        "parameters = {\n",
        "    'max_depth' : [1, 3, 10, 30]\n",
        "}\n",
        "gs = GridSearchCV(estimator = DecisionTreeClassifier(random_state = 7), param_grid = parameters, n_jobs = 4, scoring = 'accuracy', iid =  False, cv = 3)\n",
        "gs.fit(X_train,y_train)\n",
        "gs.best_params_, gs.best_score_"
      ],
      "execution_count": 47,
      "outputs": [
        {
          "output_type": "execute_result",
          "data": {
            "text/plain": [
              "({'max_depth': 10}, 0.612878359088762)"
            ]
          },
          "metadata": {
            "tags": []
          },
          "execution_count": 47
        }
      ]
    },
    {
      "cell_type": "code",
      "metadata": {
        "id": "3kjPc8s0Tgme",
        "colab_type": "code",
        "colab": {
          "base_uri": "https://localhost:8080/",
          "height": 34
        },
        "outputId": "4f0c80d9-f764-489e-d941-d9eae59ad2a0"
      },
      "source": [
        "# clf2 = RandomForestClassifier(n_estimators=100, max_depth=30, random_state = 7)\n",
        "# algo_final(clf2)\n",
        "parameters = {\n",
        "    'max_depth' : [1, 3, 10, 30]\n",
        "}\n",
        "gs = GridSearchCV(estimator = RandomForestClassifier(n_estimators=100, random_state = 7), param_grid = parameters, n_jobs = 4, scoring = 'accuracy', iid =  False, cv = 3)\n",
        "gs.fit(X_train,y_train)\n",
        "gs.best_params_, gs.best_score_"
      ],
      "execution_count": 48,
      "outputs": [
        {
          "output_type": "execute_result",
          "data": {
            "text/plain": [
              "({'max_depth': 30}, 0.6203690536407042)"
            ]
          },
          "metadata": {
            "tags": []
          },
          "execution_count": 48
        }
      ]
    },
    {
      "cell_type": "code",
      "metadata": {
        "id": "szlKZPokTgmi",
        "colab_type": "code",
        "colab": {}
      },
      "source": [
        "# clf = SVC(gamma='auto')\n",
        "# algo_final(clf)\n",
        "# parameters = {\n",
        "#     'C' : [0.03, 0.1, 0.3, 1, 3],\n",
        "#     'kernel' : ('linear', 'poly', 'rbf', 'sigmoid'),\n",
        "#     'degree' : [1, 3, 10],\n",
        "#     'coef0' : [0.03, 0.1, 0.3, 1, 3]\n",
        "# }\n",
        "# gs = GridSearchCV(estimator = SVC(gamma='auto', random_state = 7), param_grid = parameters, n_jobs = 4, scoring = 'accuracy', iid =  False, cv = 3)\n",
        "# gs.fit(X_train,y_train)\n",
        "# gs.best_params_, gs.best_score_"
      ],
      "execution_count": 0,
      "outputs": []
    },
    {
      "cell_type": "code",
      "metadata": {
        "id": "lKBv6hOyTgmm",
        "colab_type": "code",
        "colab": {}
      },
      "source": [
        "# clf3 = xgboost.XGBClassifier(n_estimators = 100, max_depth = 3, learning_rate = 0.1, random_state = 7)\n",
        "# algo_final(clf3)\n",
        "# parameters = {\n",
        "#     'max_depth' : [1, 3, 10, 30],\n",
        "#     'learning_rate' : [0.003, 0.01, 0.03, 0.1, 0.3, 1, 3]\n",
        "# }\n",
        "# gs = GridSearchCV(estimator = xgboost.XGBClassifier(n_estimators = 100, random_state = 7), param_grid = parameters, n_jobs = 4, scoring = 'accuracy', iid =  False, cv = 3)\n",
        "# gs.fit(X_train,y_train)\n",
        "# gs.best_params_, gs.best_score_"
      ],
      "execution_count": 0,
      "outputs": []
    },
    {
      "cell_type": "code",
      "metadata": {
        "id": "-dwSexwtTgmq",
        "colab_type": "code",
        "colab": {}
      },
      "source": [
        "# baseline model\n",
        "def create_baseline():\n",
        "    # create model\n",
        "    model = Sequential()\n",
        "    model.add(Dense(182, input_dim=182, kernel_initializer='normal', activation='relu'))\n",
        "    model.add(Dropout(0.5))\n",
        "    model.add(Dense(91, kernel_initializer='normal', activation='relu'))\n",
        "    model.add(Dropout(0.5))\n",
        "    model.add(Dense(1, kernel_initializer='normal', activation='sigmoid'))\n",
        "    # Compile model\n",
        "    model.compile(loss='binary_crossentropy', optimizer='adam', metrics=['accuracy'])\n",
        "    return model"
      ],
      "execution_count": 0,
      "outputs": []
    },
    {
      "cell_type": "code",
      "metadata": {
        "id": "D6W2-uCXTgmt",
        "colab_type": "code",
        "colab": {
          "base_uri": "https://localhost:8080/",
          "height": 34
        },
        "outputId": "7f5e2dd8-064c-4747-dbbc-61b04433b8fe"
      },
      "source": [
        "X_train = train_final.drop(columns = ['is_goal'])\n",
        "y_train = train_final['is_goal']\n",
        "X_train.shape"
      ],
      "execution_count": 52,
      "outputs": [
        {
          "output_type": "execute_result",
          "data": {
            "text/plain": [
              "(24429, 182)"
            ]
          },
          "metadata": {
            "tags": []
          },
          "execution_count": 52
        }
      ]
    },
    {
      "cell_type": "code",
      "metadata": {
        "scrolled": false,
        "id": "psj2xkUCTgmx",
        "colab_type": "code",
        "colab": {
          "base_uri": "https://localhost:8080/",
          "height": 1000
        },
        "outputId": "a0ad29dd-e725-47cd-b73d-b750e261007b"
      },
      "source": [
        "X_train = train_final.drop(columns = ['is_goal'])\n",
        "y_train = train_final['is_goal']\n",
        "# evaluate model with standardized dataset\n",
        "estimator = KerasClassifier(build_fn=create_baseline, epochs=15, batch_size=5, verbose=2)\n",
        "kfold = StratifiedKFold(n_splits=5, shuffle=True, random_state=7)\n",
        "results = cross_val_score(estimator, X_train, y_train, cv=kfold)\n",
        "print(\"Results: %.2f%% (%.2f%%)\" % (results.mean()*100, results.std()*100))"
      ],
      "execution_count": 53,
      "outputs": [
        {
          "output_type": "stream",
          "text": [
            "WARNING: Logging before flag parsing goes to stderr.\n",
            "W0726 21:20:52.934831 140526618965888 deprecation_wrapper.py:119] From /usr/local/lib/python3.6/dist-packages/keras/backend/tensorflow_backend.py:74: The name tf.get_default_graph is deprecated. Please use tf.compat.v1.get_default_graph instead.\n",
            "\n",
            "W0726 21:20:52.984432 140526618965888 deprecation_wrapper.py:119] From /usr/local/lib/python3.6/dist-packages/keras/backend/tensorflow_backend.py:517: The name tf.placeholder is deprecated. Please use tf.compat.v1.placeholder instead.\n",
            "\n",
            "W0726 21:20:52.995251 140526618965888 deprecation_wrapper.py:119] From /usr/local/lib/python3.6/dist-packages/keras/backend/tensorflow_backend.py:4115: The name tf.random_normal is deprecated. Please use tf.random.normal instead.\n",
            "\n",
            "W0726 21:20:53.022727 140526618965888 deprecation_wrapper.py:119] From /usr/local/lib/python3.6/dist-packages/keras/backend/tensorflow_backend.py:133: The name tf.placeholder_with_default is deprecated. Please use tf.compat.v1.placeholder_with_default instead.\n",
            "\n",
            "W0726 21:20:53.036244 140526618965888 deprecation.py:506] From /usr/local/lib/python3.6/dist-packages/keras/backend/tensorflow_backend.py:3445: calling dropout (from tensorflow.python.ops.nn_ops) with keep_prob is deprecated and will be removed in a future version.\n",
            "Instructions for updating:\n",
            "Please use `rate` instead of `keep_prob`. Rate should be set to `rate = 1 - keep_prob`.\n",
            "W0726 21:20:53.102005 140526618965888 deprecation_wrapper.py:119] From /usr/local/lib/python3.6/dist-packages/keras/optimizers.py:790: The name tf.train.Optimizer is deprecated. Please use tf.compat.v1.train.Optimizer instead.\n",
            "\n",
            "W0726 21:20:53.126853 140526618965888 deprecation_wrapper.py:119] From /usr/local/lib/python3.6/dist-packages/keras/backend/tensorflow_backend.py:3376: The name tf.log is deprecated. Please use tf.math.log instead.\n",
            "\n",
            "W0726 21:20:53.133846 140526618965888 deprecation.py:323] From /usr/local/lib/python3.6/dist-packages/tensorflow/python/ops/nn_impl.py:180: add_dispatch_support.<locals>.wrapper (from tensorflow.python.ops.array_ops) is deprecated and will be removed in a future version.\n",
            "Instructions for updating:\n",
            "Use tf.where in 2.0, which has the same broadcast rule as np.where\n"
          ],
          "name": "stderr"
        },
        {
          "output_type": "stream",
          "text": [
            "Epoch 1/15\n",
            " - 7s - loss: 0.6611 - acc: 0.6100\n",
            "Epoch 2/15\n",
            " - 6s - loss: 0.6476 - acc: 0.6262\n",
            "Epoch 3/15\n",
            " - 6s - loss: 0.6401 - acc: 0.6360\n",
            "Epoch 4/15\n",
            " - 6s - loss: 0.6341 - acc: 0.6400\n",
            "Epoch 5/15\n",
            " - 6s - loss: 0.6293 - acc: 0.6423\n",
            "Epoch 6/15\n",
            " - 6s - loss: 0.6245 - acc: 0.6478\n",
            "Epoch 7/15\n",
            " - 6s - loss: 0.6190 - acc: 0.6508\n",
            "Epoch 8/15\n",
            " - 7s - loss: 0.6133 - acc: 0.6534\n",
            "Epoch 9/15\n",
            " - 7s - loss: 0.6113 - acc: 0.6563\n",
            "Epoch 10/15\n",
            " - 7s - loss: 0.6049 - acc: 0.6590\n",
            "Epoch 11/15\n",
            " - 7s - loss: 0.5976 - acc: 0.6667\n",
            "Epoch 12/15\n",
            " - 7s - loss: 0.5943 - acc: 0.6703\n",
            "Epoch 13/15\n",
            " - 7s - loss: 0.5891 - acc: 0.6741\n",
            "Epoch 14/15\n",
            " - 7s - loss: 0.5818 - acc: 0.6765\n",
            "Epoch 15/15\n",
            " - 6s - loss: 0.5782 - acc: 0.6810\n",
            "Epoch 1/15\n",
            " - 7s - loss: 0.6579 - acc: 0.6147\n",
            "Epoch 2/15\n",
            " - 7s - loss: 0.6454 - acc: 0.6311\n",
            "Epoch 3/15\n",
            " - 7s - loss: 0.6399 - acc: 0.6319\n",
            "Epoch 4/15\n",
            " - 7s - loss: 0.6364 - acc: 0.6410\n",
            "Epoch 5/15\n",
            " - 7s - loss: 0.6317 - acc: 0.6403\n",
            "Epoch 6/15\n",
            " - 7s - loss: 0.6283 - acc: 0.6435\n",
            "Epoch 7/15\n",
            " - 7s - loss: 0.6214 - acc: 0.6460\n",
            "Epoch 8/15\n",
            " - 7s - loss: 0.6190 - acc: 0.6512\n",
            "Epoch 9/15\n",
            " - 7s - loss: 0.6122 - acc: 0.6534\n",
            "Epoch 10/15\n",
            " - 7s - loss: 0.6097 - acc: 0.6578\n",
            "Epoch 11/15\n",
            " - 7s - loss: 0.6022 - acc: 0.6585\n",
            "Epoch 12/15\n",
            " - 7s - loss: 0.5968 - acc: 0.6602\n",
            "Epoch 13/15\n",
            " - 7s - loss: 0.5926 - acc: 0.6664\n",
            "Epoch 14/15\n",
            " - 7s - loss: 0.5888 - acc: 0.6702\n",
            "Epoch 15/15\n",
            " - 7s - loss: 0.5821 - acc: 0.6742\n",
            "Epoch 1/15\n",
            " - 8s - loss: 0.6595 - acc: 0.6150\n",
            "Epoch 2/15\n",
            " - 7s - loss: 0.6454 - acc: 0.6298\n",
            "Epoch 3/15\n",
            " - 7s - loss: 0.6404 - acc: 0.6334\n",
            "Epoch 4/15\n",
            " - 7s - loss: 0.6371 - acc: 0.6373\n",
            "Epoch 5/15\n",
            " - 7s - loss: 0.6319 - acc: 0.6402\n",
            "Epoch 6/15\n",
            " - 7s - loss: 0.6279 - acc: 0.6443\n",
            "Epoch 7/15\n",
            " - 7s - loss: 0.6231 - acc: 0.6466\n",
            "Epoch 8/15\n",
            " - 7s - loss: 0.6192 - acc: 0.6492\n",
            "Epoch 9/15\n",
            " - 7s - loss: 0.6150 - acc: 0.6559\n",
            "Epoch 10/15\n",
            " - 7s - loss: 0.6070 - acc: 0.6599\n",
            "Epoch 11/15\n",
            " - 7s - loss: 0.6048 - acc: 0.6626\n",
            "Epoch 12/15\n",
            " - 7s - loss: 0.5980 - acc: 0.6629\n",
            "Epoch 13/15\n",
            " - 7s - loss: 0.5901 - acc: 0.6734\n",
            "Epoch 14/15\n",
            " - 7s - loss: 0.5861 - acc: 0.6745\n",
            "Epoch 15/15\n",
            " - 8s - loss: 0.5846 - acc: 0.6774\n",
            "Epoch 1/15\n",
            " - 7s - loss: 0.6613 - acc: 0.6088\n",
            "Epoch 2/15\n",
            " - 7s - loss: 0.6470 - acc: 0.6265\n",
            "Epoch 3/15\n",
            " - 7s - loss: 0.6411 - acc: 0.6331\n",
            "Epoch 4/15\n",
            " - 7s - loss: 0.6371 - acc: 0.6370\n",
            "Epoch 5/15\n",
            " - 7s - loss: 0.6324 - acc: 0.6391\n",
            "Epoch 6/15\n",
            " - 7s - loss: 0.6273 - acc: 0.6436\n",
            "Epoch 7/15\n",
            " - 7s - loss: 0.6213 - acc: 0.6467\n",
            "Epoch 8/15\n",
            " - 7s - loss: 0.6197 - acc: 0.6501\n",
            "Epoch 9/15\n",
            " - 7s - loss: 0.6150 - acc: 0.6551\n",
            "Epoch 10/15\n",
            " - 7s - loss: 0.6086 - acc: 0.6564\n",
            "Epoch 11/15\n",
            " - 7s - loss: 0.6045 - acc: 0.6641\n",
            "Epoch 12/15\n",
            " - 7s - loss: 0.5992 - acc: 0.6650\n",
            "Epoch 13/15\n",
            " - 7s - loss: 0.5922 - acc: 0.6699\n",
            "Epoch 14/15\n",
            " - 7s - loss: 0.5879 - acc: 0.6717\n",
            "Epoch 15/15\n",
            " - 7s - loss: 0.5839 - acc: 0.6768\n",
            "Epoch 1/15\n",
            " - 7s - loss: 0.6607 - acc: 0.6109\n",
            "Epoch 2/15\n",
            " - 7s - loss: 0.6477 - acc: 0.6287\n",
            "Epoch 3/15\n",
            " - 7s - loss: 0.6393 - acc: 0.6322\n",
            "Epoch 4/15\n",
            " - 7s - loss: 0.6369 - acc: 0.6350\n",
            "Epoch 5/15\n",
            " - 7s - loss: 0.6321 - acc: 0.6378\n",
            "Epoch 6/15\n",
            " - 7s - loss: 0.6267 - acc: 0.6447\n",
            "Epoch 7/15\n",
            " - 7s - loss: 0.6225 - acc: 0.6442\n",
            "Epoch 8/15\n",
            " - 7s - loss: 0.6164 - acc: 0.6487\n",
            "Epoch 9/15\n",
            " - 7s - loss: 0.6136 - acc: 0.6543\n",
            "Epoch 10/15\n",
            " - 7s - loss: 0.6072 - acc: 0.6552\n",
            "Epoch 11/15\n",
            " - 7s - loss: 0.6019 - acc: 0.6622\n",
            "Epoch 12/15\n",
            " - 7s - loss: 0.5968 - acc: 0.6644\n",
            "Epoch 13/15\n",
            " - 7s - loss: 0.5905 - acc: 0.6685\n",
            "Epoch 14/15\n",
            " - 7s - loss: 0.5869 - acc: 0.6741\n",
            "Epoch 15/15\n",
            " - 7s - loss: 0.5814 - acc: 0.6747\n",
            "Results: 62.35% (0.76%)\n"
          ],
          "name": "stdout"
        }
      ]
    },
    {
      "cell_type": "code",
      "metadata": {
        "id": "QneFPVqwTgm0",
        "colab_type": "code",
        "colab": {
          "base_uri": "https://localhost:8080/",
          "height": 544
        },
        "outputId": "669c8b88-858e-400d-de3c-2af1e0fb3382"
      },
      "source": [
        "estimator.fit(X_train, y_train)"
      ],
      "execution_count": 54,
      "outputs": [
        {
          "output_type": "stream",
          "text": [
            "Epoch 1/15\n",
            " - 10s - loss: 0.6582 - acc: 0.6143\n",
            "Epoch 2/15\n",
            " - 8s - loss: 0.6461 - acc: 0.6296\n",
            "Epoch 3/15\n",
            " - 9s - loss: 0.6389 - acc: 0.6344\n",
            "Epoch 4/15\n",
            " - 9s - loss: 0.6364 - acc: 0.6369\n",
            "Epoch 5/15\n",
            " - 9s - loss: 0.6339 - acc: 0.6409\n",
            "Epoch 6/15\n",
            " - 9s - loss: 0.6292 - acc: 0.6443\n",
            "Epoch 7/15\n",
            " - 9s - loss: 0.6253 - acc: 0.6451\n",
            "Epoch 8/15\n",
            " - 9s - loss: 0.6208 - acc: 0.6491\n",
            "Epoch 9/15\n",
            " - 9s - loss: 0.6157 - acc: 0.6506\n",
            "Epoch 10/15\n",
            " - 9s - loss: 0.6129 - acc: 0.6536\n",
            "Epoch 11/15\n",
            " - 9s - loss: 0.6088 - acc: 0.6561\n",
            "Epoch 12/15\n",
            " - 9s - loss: 0.6058 - acc: 0.6573\n",
            "Epoch 13/15\n",
            " - 9s - loss: 0.6012 - acc: 0.6613\n",
            "Epoch 14/15\n",
            " - 9s - loss: 0.5955 - acc: 0.6654\n",
            "Epoch 15/15\n",
            " - 9s - loss: 0.5909 - acc: 0.6706\n"
          ],
          "name": "stdout"
        },
        {
          "output_type": "execute_result",
          "data": {
            "text/plain": [
              "<keras.callbacks.History at 0x7fce8caaf780>"
            ]
          },
          "metadata": {
            "tags": []
          },
          "execution_count": 54
        }
      ]
    },
    {
      "cell_type": "code",
      "metadata": {
        "id": "I8yEjytkTgm3",
        "colab_type": "code",
        "colab": {}
      },
      "source": [
        "# y_final = (clf1.predict_proba(X_test_final) + clf2.predict_proba(X_test_final) + clf3.predict_proba(X_test_final)) / 3\n",
        "X_test_final = np.array(test_final.drop(columns = ['is_goal']))\n",
        "y_final = estimator.predict_proba(X_test_final)"
      ],
      "execution_count": 0,
      "outputs": []
    },
    {
      "cell_type": "code",
      "metadata": {
        "id": "nnesQng5Tgm6",
        "colab_type": "code",
        "colab": {
          "base_uri": "https://localhost:8080/",
          "height": 34
        },
        "outputId": "fdd3d8f3-777f-425e-c890-7de813d6ce85"
      },
      "source": [
        "y_final = pd.DataFrame(y_final[:,1])\n",
        "len(y_final)"
      ],
      "execution_count": 56,
      "outputs": [
        {
          "output_type": "execute_result",
          "data": {
            "text/plain": [
              "6268"
            ]
          },
          "metadata": {
            "tags": []
          },
          "execution_count": 56
        }
      ]
    },
    {
      "cell_type": "code",
      "metadata": {
        "id": "Y8XnAJcZTgm9",
        "colab_type": "code",
        "colab": {
          "base_uri": "https://localhost:8080/",
          "height": 34
        },
        "outputId": "e7ccf297-77b7-416f-e8cf-5219f6bd2071"
      },
      "source": [
        "df = df[df['is_goal'].isnull()]\n",
        "len(df)"
      ],
      "execution_count": 57,
      "outputs": [
        {
          "output_type": "execute_result",
          "data": {
            "text/plain": [
              "6268"
            ]
          },
          "metadata": {
            "tags": []
          },
          "execution_count": 57
        }
      ]
    },
    {
      "cell_type": "code",
      "metadata": {
        "id": "KOziz3_ATgnA",
        "colab_type": "code",
        "colab": {}
      },
      "source": [
        "x = pd.DataFrame(df['shot_id_number'], columns=['shot_id_number'])#, index = y_final.index)\n",
        "# x = x.dropna()\n",
        "x.index = range(len(y_final))\n",
        "x['is_goal'] = y_final"
      ],
      "execution_count": 0,
      "outputs": []
    },
    {
      "cell_type": "code",
      "metadata": {
        "id": "wR168Rg2TgnD",
        "colab_type": "code",
        "colab": {}
      },
      "source": [
        "# x.to_csv('varun_bhargava_091698_prediction_6.csv', index = False)"
      ],
      "execution_count": 0,
      "outputs": []
    },
    {
      "cell_type": "code",
      "metadata": {
        "id": "Z5jIx2K7TgnF",
        "colab_type": "code",
        "colab": {}
      },
      "source": [
        ""
      ],
      "execution_count": 0,
      "outputs": []
    }
  ]
}